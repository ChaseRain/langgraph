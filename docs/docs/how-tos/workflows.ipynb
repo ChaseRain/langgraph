{
 "cells": [
  {
   "cell_type": "code",
   "execution_count": null,
   "metadata": {},
   "outputs": [],
   "source": [
    "! pip install langchain-openai langchain-anthropic langgraph "
   ]
  },
  {
   "cell_type": "markdown",
   "metadata": {},
   "source": [
    "# Workflows and Agents\n",
    "\n",
    "Anthropic released an excellent [blog post](https://www.anthropic.com/research/building-effective-agents) on building effective agents. \n",
    "\n",
    "> \"Agent\" can be defined in several ways. Some customers define agents as fully autonomous systems that operate independently over extended periods, using various tools to accomplish complex tasks. Others use the term to describe more prescriptive implementations that follow predefined workflows. At Anthropic, we categorize all these variations as agentic systems\n",
    "\n",
    "It offered a definition of the difference between workflows and agents: \n",
    "\n",
    "> Workflows are systems where LLMs and tools are orchestrated through predefined code paths.\n",
    "> Agents, on the other hand, are systems where LLMs dynamically direct their own processes and tool usage, maintaining control over how they accomplish tasks.\n",
    "\n",
    "Below, we'll show how to build workflows and agents using LangGraph.\n",
    "\n",
    "## Why use a framework?\n",
    "\n",
    "First, it is important to note that the blog post correctly points out that frameworks can add abstraction and complexity: \n",
    "\n",
    "> (Frameworks) often create extra layers of abstraction that can obscure the underlying prompts ​​and responses, making them harder to debug.\n",
    "\n",
    "LangGraph is designed to be low-level, without any prompt or architecture abstraction. \n",
    "\n",
    "The post makes an important point about agents, which also extends to workflows: \n",
    "\n",
    "> Agents can then *pause for human feedback at checkpoints* or when encountering blockers.\n",
    "\n",
    "We have found that this is central to building effective agents in practice. \n",
    "\n",
    "While it's true that workflow and agent implementations can be achieves without a framework, sometimes in a few lines of code, LangGraph is designed with a [persistence layer](https://langchain-ai.github.io/langgraph/concepts/persistence/) that underpins the workflow or agent: \n",
    "\n",
    "* This enables short-term and long-term [memory](https://langchain-ai.github.io/langgraph/concepts/memory/). \n",
    "* This enables [interruption and resuming](https://langchain-ai.github.io/langgraph/concepts/breakpoints/) workflows or agents.\n",
    "* This enables [human-in-the-loop](https://langchain-ai.github.io/langgraph/concepts/human_in_the_loop/) (e.g., to approve an agent's actions).\n",
    "* This enables [shared-state for multi-agent](https://langchain-ai.github.io/langgraph/concepts/multi_agent/) systems.\n",
    "\n",
    "## Building Blocks: The Augmented LLM \n",
    "\n",
    "LLM have [augmentations](https://www.anthropic.com/research/building-effective-agents) that support building workflows and agents. \n",
    "\n",
    "These include `structured outputs` and `tool calling`. \n",
    "\n",
    "LangGraph uses these augmentations to build workflows and agents."
   ]
  },
  {
   "cell_type": "code",
   "execution_count": 44,
   "metadata": {},
   "outputs": [],
   "source": [
    "# LLM\n",
    "from langchain_openai import ChatOpenAI\n",
    "llm = ChatOpenAI(model=\"gpt-4o\")\n",
    "\n",
    "from langchain_anthropic import ChatAnthropic\n",
    "llm = ChatAnthropic(model=\"claude-3-5-sonnet-latest\")\n"
   ]
  },
  {
   "cell_type": "code",
   "execution_count": 45,
   "metadata": {},
   "outputs": [
    {
     "name": "stdout",
     "output_type": "stream",
     "text": [
      "relationship between calcium CT score and high cholesterol correlation atherosclerosis\n",
      "This search query will help find scientific information about how coronary calcium scores are related to cholesterol levels and cardiovascular risk, as both are important markers for atherosclerosis.\n"
     ]
    }
   ],
   "source": [
    "from pydantic import BaseModel, Field\n",
    "\n",
    "# Structured output\n",
    "class SearchQuery(BaseModel):\n",
    "    search_query: str = Field(\n",
    "        None, description=\"Query that is optimized web search.\"\n",
    "    )\n",
    "    justification: str = Field(\n",
    "        None, justification=\"Why this query is relevant to the user's request.\"\n",
    "    )\n",
    "\n",
    "# Augment the LLM\n",
    "structured_llm = llm.with_structured_output(SearchQuery)\n",
    "\n",
    "# Invoke the LLM\n",
    "output = structured_llm.invoke(\"How does Calcium CT score relate to high cholesterol?\")\n",
    "print(output.search_query)\n",
    "print(output.justification)"
   ]
  },
  {
   "cell_type": "code",
   "execution_count": 12,
   "metadata": {},
   "outputs": [
    {
     "data": {
      "text/plain": [
       "[{'name': 'multiply',\n",
       "  'args': {'a': 2, 'b': 3},\n",
       "  'id': 'call_IyRywjX46Ks1JAVuYghRP1jh',\n",
       "  'type': 'tool_call'}]"
      ]
     },
     "execution_count": 12,
     "metadata": {},
     "output_type": "execute_result"
    }
   ],
   "source": [
    "def multiply(a: int, b: int) -> int:\n",
    "    return a * b\n",
    "\n",
    "# Augment the LLM\n",
    "llm_with_tools = llm.bind_tools([multiply])\n",
    "\n",
    "# Invoke the LLM\n",
    "msg = llm_with_tools.invoke(\"What is 2 times 3?\")\n",
    "\n",
    "# Get the tool calls\n",
    "msg.tool_calls\n"
   ]
  },
  {
   "cell_type": "markdown",
   "metadata": {},
   "source": [
    "## Chain\n",
    "\n",
    "Each LLM call processes the output of the previous one. As noted in the [Anthropic blog post](https://www.anthropic.com/research/building-effective-agents): \n",
    "\n",
    "> Prompt chaining decomposes a task into a sequence of steps, where each LLM call processes the output of the previous one. You can add programmatic checks (see \"gate” in the diagram below) on any intermediate steps to ensure that the process is still on track.\n",
    "\n",
    "> When to use this workflow: This workflow is ideal for situations where the task can be easily and cleanly decomposed into fixed subtasks. The main goal is to trade off latency for higher accuracy, by making each LLM call an easier task.\n",
    "\n",
    "#### Resources\n",
    "\n",
    "**LangChain Academy**\n",
    " \n",
    "See our lesson on chains here: \n",
    "\n",
    "https://github.com/langchain-ai/langchain-academy/blob/main/module-1/chain.ipynb\n"
   ]
  },
  {
   "cell_type": "code",
   "execution_count": 16,
   "metadata": {},
   "outputs": [
    {
     "data": {
      "image/png": "[encoded data removed]",
      "text/plain": [
       "<IPython.core.display.Image object>"
      ]
     },
     "metadata": {},
     "output_type": "display_data"
    }
   ],
   "source": [
    "from typing_extensions import TypedDict\n",
    "from langgraph.graph import StateGraph, START, END\n",
    "from IPython.display import Image, display\n",
    "\n",
    "# LLM\n",
    "llm = ChatOpenAI(model=\"gpt-4o\")\n",
    "\n",
    "# State \n",
    "class State(TypedDict):\n",
    "    topic: str\n",
    "    joke: str\n",
    "    story: str\n",
    "\n",
    "def call_llm_1(state: State):\n",
    "    msg=llm.invoke(f\"Write a joke about {state['topic']}\")\n",
    "    return {\"joke\": msg.content}\n",
    "\n",
    "def call_llm_2(state: State):\n",
    "    msg=llm.invoke(f\"Write a story about {state['joke']}\")\n",
    "    return {\"story\": msg.content}\n",
    "\n",
    "# Add the nodes\n",
    "chain_builder = StateGraph(State)\n",
    "chain_builder.add_node(\"call_llm_1\", call_llm_1)\n",
    "chain_builder.add_node(\"call_llm_2\", call_llm_2)\n",
    "\n",
    "# Build the chain\n",
    "chain_builder.add_edge(START, \"call_llm_1\")\n",
    "chain_builder.add_edge(\"call_llm_1\", \"call_llm_2\")\n",
    "chain_builder.add_edge(\"call_llm_2\", END)\n",
    "chain = chain_builder.compile()\n",
    "\n",
    "# Show the chain \n",
    "display(Image(chain.get_graph().draw_mermaid_png()))"
   ]
  },
  {
   "cell_type": "code",
   "execution_count": 18,
   "metadata": {},
   "outputs": [
    {
     "name": "stdout",
     "output_type": "stream",
     "text": [
      "In the quaint little town of Whiskerton, there was a not-so-ordinary cat named Whiskers. Whiskers was a tabby with striking emerald eyes and a penchant for curiosity that surpassed even the most inquisitive felines. Belonging to an avid tech enthusiast named Amelia, Whiskers spent most of his days lounging about the house, soaking in the sun, and observing Amelia as she tapped away at her computer.\n",
      "\n",
      "One chilly autumn afternoon, Amelia was working intently on a project. Her fingers danced across the keyboard, the soft clicking sound echoed in the cozy living room. Whiskers stretched lazily on the sofa, half-heartedly swatting at a dangling string. As Amelia’s work intensified, the little gadget on her desk—the wireless mouse—caught Whiskers' attention. It skittered around the desk with each of Amelia's movements, seemingly as alive as any critter he had chased in the garden.\n",
      "\n",
      "Intrigued, Whiskers padded over to the desk, his eyes locked onto the elusive mouse. Perplexed by its refusal to scurry under the couch or into a crack as a regular mouse would, Whiskers contemplated his next move. He decided he needed a better vantage point.\n",
      "\n",
      "With a graceful leap, Whiskers landed squarely atop Amelia's laptop, his tail swishing in the air. Amelia paused, smiling at her feline companion's antics. \"Well, hello there, Whiskers,\" she chuckled, scratching him behind the ears. \"Sitting on the computer again, are we?\"\n",
      "\n",
      "In his mind, Whiskers was on a mission. Sitting atop the laptop gave him the perfect position to keep an eye on the peculiar mouse. As if asserting his authority, he leaned forward, his nose twitching with determination as he \"protected\" Amelia from the deceptive little creature.\n",
      "\n",
      "Amelia continued typing, though now with a bit more difficulty, gently nudging Whiskers to the side. Whiskers, however, remained undeterred, refusing to relinquish his newfound territory. But Amelia didn’t mind; she knew the little quirks that made Whiskers so special.\n",
      "\n",
      "As the afternoon turned to evening, the room grew dim, and Amelia turned on a small lamp. The screen of the computer cast a warm glow on Whiskers, highlighting his soft fur. He finally settled down, deciding that the mouse was now under control—as long as he sat there.\n",
      "\n",
      "And so, in the little town of Whiskerton, the story of why the cat sat on the computer became a delightful tale told over cups of tea. Everyone knew it was because Whiskers, with his watchful emerald eyes, simply wanted to keep an eye on the mouse—a guardian of his home, a protector of his human, unaware that he became internet-famous every time Amelia shared a picture of his diligent watch online.\n",
      "\n",
      "Whiskers yawned contently, and with a satisfied curl of his tail, he stayed on that laptop. After all, a cat’s work was never done, not even in the digital age.\n"
     ]
    }
   ],
   "source": [
    "state = chain.invoke({\"topic\": \"cats\"})\n",
    "print(state['story'])"
   ]
  },
  {
   "cell_type": "markdown",
   "metadata": {},
   "source": [
    "Trace: \n",
    "\n",
    "https://smith.langchain.com/public/0d7efe23-7b9f-4e33-8e39-8f4fc5cf581e/r"
   ]
  },
  {
   "cell_type": "markdown",
   "metadata": {},
   "source": [
    "## Parallelization \n",
    "\n",
    "LLMs can work simultaneously on a task. As noted in the [Anthropic blog post](https://www.anthropic.com/research/building-effective-agents): \n",
    "\n",
    ">LLMs can sometimes work simultaneously on a task and have their outputs aggregated programmatically. This workflow, parallelization, manifests in two key variations: Sectioning: Breaking a task into independent subtasks run in parallel. Voting: Running the same task multiple times to get diverse outputs.\n",
    "\n",
    "> When to use this workflow: Parallelization is effective when the divided subtasks can be parallelized for speed, or when multiple perspectives or attempts are needed for higher confidence results. For complex tasks with multiple considerations, LLMs generally perform better when each consideration is handled by a separate LLM call, allowing focused attention on each specific aspect.\n",
    "\n",
    "#### Resources\n",
    "\n",
    "**Documentation**\n",
    "\n",
    "See our documentation on parallelization here:\n",
    "\n",
    "https://langchain-ai.github.io/langgraph/how-tos/branching/\n",
    "\n",
    "**LangChain Academy**\n",
    " \n",
    "See our lesson on parallelization here: \n",
    "\n",
    "https://github.com/langchain-ai/langchain-academy/blob/main/module-1/simple-graph.ipynb"
   ]
  },
  {
   "cell_type": "code",
   "execution_count": 21,
   "metadata": {},
   "outputs": [
    {
     "data": {
      "image/png": "[encoded data removed]",
      "text/plain": [
       "<IPython.core.display.Image object>"
      ]
     },
     "metadata": {},
     "output_type": "display_data"
    }
   ],
   "source": [
    "def call_llm_1(state: State):\n",
    "    msg=llm.invoke(f\"Write a joke about {state['topic']}\")\n",
    "    return {\"joke\": msg.content}\n",
    "\n",
    "def call_llm_2(state: State):\n",
    "    msg=llm.invoke(f\"Write a story about {state['topic']}\")\n",
    "    return {\"story\": msg.content}\n",
    "\n",
    "# Add the nodes\n",
    "parallel_builder = StateGraph(State)\n",
    "parallel_builder.add_node(\"call_llm_1\", call_llm_1)\n",
    "parallel_builder.add_node(\"call_llm_2\", call_llm_2)\n",
    "\n",
    "# Build the chain\n",
    "parallel_builder.add_edge(START, \"call_llm_1\")\n",
    "parallel_builder.add_edge(START, \"call_llm_2\")\n",
    "parallel_builder.add_edge(\"call_llm_1\", END)\n",
    "parallel_builder.add_edge(\"call_llm_2\", END)\n",
    "parallel_workflow = parallel_builder.compile()\n",
    "\n",
    "# Show the chain \n",
    "display(Image(parallel_workflow.get_graph().draw_mermaid_png()))"
   ]
  },
  {
   "cell_type": "code",
   "execution_count": 23,
   "metadata": {},
   "outputs": [
    {
     "name": "stdout",
     "output_type": "stream",
     "text": [
      "Once upon a time in the quaint village of Whiskerfield, nestled between the gentle hills and sprawling fields of lavender, there existed a peculiar community known as Feline Fellowship. This village was home to an extraordinary population of cats, known far and wide for their unique talents and closely-knit society.\n",
      "\n",
      "The leader of this feline fraternity was an elegant Maine Coon named Sir Whiskers. With a bushy tail like a plume of smoke and eyes as green as spring leaves, Sir Whiskers was both wise and gentle. He lived atop the tallest oak in the heart of Whiskerfield, where he could see over the entire village and into the distant horizon.\n",
      "\n",
      "Each cat in Whiskerfield had a special role. There was Mistral, a swift Burmese who danced across the rooftops, delivering messages and keeping the village updated on the latest happenings. Her agility was unmatched, making her the fastest in all of Whiskerfield. Then there was Leo, the stout tabby who ran the local bakery. His paws deftly kneaded dough every morning, filling the air with the comforting scent of fresh bread and pastries.\n",
      "\n",
      "Among them was a curious young kitten named Luna. Luna was an inquisitive Calico with a vivid patchwork coat that seemed to change with the seasons. She was known for her insatiable curiosity, always poking her nose where she probably shouldn’t and asking questions far beyond her years.\n",
      "\n",
      "One crisp autumn day, Luna noticed something unusual. The usually vibrant fields of lavender at the edge of the village began to wilt and lose their color, turning a pale, sickly shade. This was alarming, as the lavender fields were vital to the village, not only providing their fragrant beauty but also serving as a source of herbs and honey for the community.\n",
      "\n",
      "Determined to solve the mystery, Luna enlisted the help of her best friends: Jasper, a clever Siamese with striking blue eyes, and Penny, an orange tabby with an uncanny ability to see what others could not. Together, they formed the \"Lavender League,\" vowing to uncover the cause behind the wilting fields.\n",
      "\n",
      "Their first step was to consult with Elder Paws, the oldest and most knowledgeable cat in Whiskerfield. Elder Paws, a lanky black cat with a graying muzzle, lived in a cozy cottage by the babbling brook. He listened intently as Luna described the problem, occasionally nodding and purring thoughtfully.\n",
      "\n",
      "\"I remember a time, many moons ago,\" began Elder Paws, \"when the fields faced a similar plight. It was caused by the Mischievous Mice of Misty Hollow who, driven by fear of an early winter, dug tunnels beneath the roots to harvest the lavender for warmth.\"\n",
      "\n",
      "Eager to verify Elder Paws' theory, Luna, Jasper, and Penny set out towards Misty Hollow. Upon arrival, they found it bustling with mice, just as Elder Paws had described. However, the mice appeared frazzled more than mischievous. A charismatic mouse named Rolo explained that a fearsome hawk had taken up residence nearby, forcing them to seek refuge underground.\n",
      "\n",
      "Understanding the plight of the mice, Luna proposed a plan beneficial to all. With the help of Whiskerfield's renowned tailor, Patch, they fashioned tiny capes made from shimmering berry leaves, designed to disguise the mice as fallen autumn leaves whenever the hawk was about.\n",
      "\n",
      "Grateful for the solution, the mice ceased their excavation and the lavender was left to heal and flourish once more. The fields, rejuvenated by spring, bloomed with unprecedented vibrancy. In gratitude, the mice shared their hidden treasures of wildflowers and seeds with the village, ensuring the friendship between their communities thrived.\n",
      "\n",
      "And so, Luna, Jasper, and Penny returned to Whiskerfield as heroes, their names forever etched in the history of the village. The tale of the Lavender League was told and retold, becoming a favorite bedtime story among kittens, celebrating the day friendships were forged, and harmony was restored in the beloved village. From that day on, Whiskerfield lived by the adage that even the smallest paws can leave the most profound marks.\n",
      "--- --- ---\n",
      "--- --- ---\n",
      "Why was the cat sitting on the computer?  \n",
      "\n",
      "Because it wanted to keep an eye on the mouse!\n"
     ]
    }
   ],
   "source": [
    "state = parallel_workflow.invoke({\"topic\": \"cats\"})\n",
    "print(state['story'])\n",
    "print(\"--- --- ---\")\n",
    "print(\"--- --- ---\")\n",
    "print(state['joke'])"
   ]
  },
  {
   "cell_type": "markdown",
   "metadata": {},
   "source": [
    "Trace: \n",
    "\n",
    "https://smith.langchain.com/public/0d7efe23-7b9f-4e33-8e39-8f4fc5cf581e/r"
   ]
  },
  {
   "cell_type": "markdown",
   "metadata": {},
   "source": [
    "## Routing \n",
    "\n",
    "Routing classifies an input and directs it to a specialized followup task. As noted in the [Anthropic blog post](https://www.anthropic.com/research/building-effective-agents): \n",
    "\n",
    "> Routing classifies an input and directs it to a specialized followup task. This workflow allows for separation of concerns, and building more specialized prompts. Without this workflow, optimizing for one kind of input can hurt performance on other inputs.\n",
    "\n",
    "> When to use this workflow: Routing works well for complex tasks where there are distinct categories that are better handled separately, and where classification can be handled accurately, either by an LLM or a more traditional classification model/algorithm.\n",
    "\n",
    "#### Resources\n",
    "\n",
    "**LangChain Academy**\n",
    "\n",
    "See our lesson on routing here: \n",
    "\n",
    "https://github.com/langchain-ai/langchain-academy/blob/main/module-1/router.ipynb\n",
    "\n",
    "**Examples**\n",
    "\n",
    "Here is a project on RAG that utilizes routing to route questions to a vectorstore or web search: \n",
    "\n",
    "https://langchain-ai.github.io/langgraph/tutorials/rag/langgraph_adaptive_rag_local/ \n",
    "\n",
    "See our video on on this here:\n",
    "\n",
    "https://www.youtube.com/watch?v=bq1Plo2RhYI"
   ]
  },
  {
   "cell_type": "code",
   "execution_count": 24,
   "metadata": {},
   "outputs": [
    {
     "data": {
      "image/png": "[encoded data removed]",
      "text/plain": [
       "<IPython.core.display.Image object>"
      ]
     },
     "metadata": {},
     "output_type": "display_data"
    }
   ],
   "source": [
    "from typing_extensions import Literal\n",
    "from langchain_core.messages import HumanMessage, SystemMessage\n",
    "\n",
    "class Route(BaseModel):\n",
    "    step: Literal[\"vectorstore\", \"web_search\"] = Field(\n",
    "        None, description=\"The next step in the routing process\"\n",
    "    )\n",
    "\n",
    "# Augment the LLM\n",
    "router = llm.with_structured_output(Route)\n",
    "\n",
    "# State \n",
    "class State(TypedDict):\n",
    "    question: str\n",
    "    search_results: str\n",
    "\n",
    "def web_search(state: State):\n",
    "    print(\"Run web search with state['question']!\")\n",
    "    return {\"search_results\": \"foo\"}\n",
    "\n",
    "def vectorstore(state: State):\n",
    "    print(\"Run vectorstore with state['question']!\")\n",
    "    return {\"search_results\": \"bar\"}\n",
    "\n",
    "def route_question(state: State):\n",
    "    # Run the LLM with structured output\n",
    "    decision = router.invoke([SystemMessage(content=\"Route current events to web_search and question about LangGraph to vectorstore.\"), \n",
    "                              HumanMessage(content=state[\"question\"])])\n",
    "    # Return the node name you want to visit next\n",
    "    if decision.step == \"vectorstore\":\n",
    "        return \"vectorstore\" \n",
    "    elif decision.step == \"web_search\":\n",
    "        return \"web_search\"\n",
    "\n",
    "# Add the nodes\n",
    "router_builder = StateGraph(State)\n",
    "router_builder.add_node(\"web_search\", web_search)\n",
    "router_builder.add_node(\"vectorstore\", vectorstore)\n",
    "\n",
    "# Set the conditional entry point\n",
    "router_builder.set_conditional_entry_point(\n",
    "    route_question,\n",
    "    {\n",
    "        \"web_search\": \"web_search\",\n",
    "        \"vectorstore\": \"vectorstore\",\n",
    "    },\n",
    ")\n",
    "router_builder.add_edge(\"web_search\", END)\n",
    "router_builder.add_edge(\"vectorstore\", END)\n",
    "router_workflow = router_builder.compile()\n",
    "\n",
    "# Show the chain \n",
    "display(Image(router_workflow.get_graph().draw_mermaid_png()))"
   ]
  },
  {
   "cell_type": "code",
   "execution_count": 25,
   "metadata": {},
   "outputs": [
    {
     "name": "stdout",
     "output_type": "stream",
     "text": [
      "Run web search!\n",
      "foo\n"
     ]
    }
   ],
   "source": [
    "state = router_workflow.invoke({\"question\": \"Did the Ram or Vikings win last night?\"})\n",
    "print(state['search_results'])"
   ]
  },
  {
   "cell_type": "markdown",
   "metadata": {},
   "source": [
    "Trace: \n",
    "\n",
    "https://smith.langchain.com/public/76cb966d-8a58-439d-9c8d-3766e8cbeb15/r"
   ]
  },
  {
   "cell_type": "markdown",
   "metadata": {},
   "source": [
    "## Orchestrator-Worker \n",
    "\n",
    "A central LLM dynamically breaks down task, delegates them to worker LLMs, and synthesizes their results. As noted in the [Anthropic blog post](https://www.anthropic.com/research/building-effective-agents): \n",
    "\n",
    "> In the orchestrator-workers workflow, a central LLM dynamically breaks down tasks, delegates them to worker LLMs, and synthesizes their results.\n",
    "\n",
    "> When to use this workflow: This workflow is well-suited for complex tasks where you can’t predict the subtasks needed (in coding, for example, the number of files that need to be changed and the nature of the change in each file likely depend on the task). Whereas it’s topographically similar, the key difference from parallelization is its flexibility—subtasks aren't pre-defined, but determined by the orchestrator based on the specific input.\n",
    "\n",
    "#### Resources\n",
    "\n",
    "**LangChain Academy**\n",
    "\n",
    "See our lesson on orchestrator-worker here: \n",
    "\n",
    "https://github.com/langchain-ai/langchain-academy/blob/main/module-4/map-reduce.ipynb\n",
    "\n",
    "--- \n",
    "\n",
    "**Examples**\n",
    "\n",
    "Here is a project that uses orchestrator-worker for report planning and writing:\n",
    "\n",
    "https://github.com/langchain-ai/report-mAIstro\n",
    "\n",
    "See our video on on this here:\n",
    "\n",
    "https://www.youtube.com/watch?v=wSxZ7yFbbas\n"
   ]
  },
  {
   "cell_type": "code",
   "execution_count": 27,
   "metadata": {},
   "outputs": [],
   "source": [
    "from typing import Annotated,List\n",
    "import operator\n",
    "\n",
    "class Section(BaseModel):\n",
    "    name: str = Field(\n",
    "        description=\"Name for this section of the report.\",\n",
    "    )\n",
    "    description: str = Field(\n",
    "        description=\"Brief overview of the main topics and concepts to be covered in this section.\",\n",
    "    )\n",
    "\n",
    "class Sections(BaseModel):\n",
    "    sections: List[Section] = Field(\n",
    "        description=\"Sections of the report.\",\n",
    "    )\n",
    "\n",
    "# Augment the LLM\n",
    "planner = llm.with_structured_output(Sections)\n",
    "\n",
    "class State(TypedDict):\n",
    "    topic: str # Report topic\n",
    "    sections: list[Section] # List of report sections \n",
    "    completed_sections: Annotated[list, operator.add] # All workers write to this key in parallel\n",
    "    final_report: str # Final report\n",
    "\n",
    "class WorkerState(TypedDict):\n",
    "    section: Section\n",
    "    completed_sections: Annotated[list, operator.add] "
   ]
  },
  {
   "cell_type": "code",
   "execution_count": 29,
   "metadata": {},
   "outputs": [],
   "source": [
    "from langgraph.constants import Send\n",
    "\n",
    "def generate_plan(state: State):\n",
    "\n",
    "    # Generate queries  \n",
    "    report_sections = planner.invoke([SystemMessage(content=\"Generate a plan for the report.\"),\n",
    "                                      HumanMessage(content=f\"Here is the report topic: {state['topic']}\")])\n",
    "\n",
    "    return {\"sections\": report_sections.sections}\n",
    "\n",
    "def initiate_section_writing(state: State):\n",
    "    \"\"\" This is the \"map\" step when we kick off web research for some sections of the report \"\"\"    \n",
    "    \n",
    "    # Kick off section writing in parallel via Send() API for any sections that require research\n",
    "    return [Send(\"write_section\", {\"section\": s}) for s in state[\"sections\"] ]\n",
    "\n",
    "def write_section(state: WorkerState):\n",
    "\n",
    "    # Generate section  \n",
    "    section = llm.invoke([SystemMessage(content=\"Write a report section.\"),\n",
    "                          HumanMessage(content=f\"Here is the section name: {state['section'].name} and description: {state['section'].description}\")])\n",
    "    \n",
    "    # Write the updated section to completed sections\n",
    "    return {\"completed_sections\": [section.content]}\n",
    "\n",
    "def finalize_report(state: State):\n",
    "    \"\"\" Gather completed sections from research \"\"\"    \n",
    "\n",
    "    # List of completed sections\n",
    "    completed_sections = state[\"completed_sections\"]\n",
    "\n",
    "    # Format completed section to str to use as context for final sections\n",
    "    completed_report_sections = \"\\n\\n---\\n\\n\".join(completed_sections)\n",
    "\n",
    "    return {\"final_report\": completed_report_sections}"
   ]
  },
  {
   "cell_type": "code",
   "execution_count": 30,
   "metadata": {},
   "outputs": [
    {
     "data": {
      "image/png": "[encoded data removed]",
      "text/plain": [
       "<IPython.core.display.Image object>"
      ]
     },
     "metadata": {},
     "output_type": "display_data"
    }
   ],
   "source": [
    "# Add the nodes\n",
    "orchestrator_worker_builder = StateGraph(State)\n",
    "orchestrator_worker_builder.add_node(\"generate_plan\", generate_plan)\n",
    "orchestrator_worker_builder.add_node(\"write_section\", write_section)\n",
    "orchestrator_worker_builder.add_node(\"finalize_report\", finalize_report)\n",
    "\n",
    "orchestrator_worker_builder.add_edge(START, \"generate_plan\")\n",
    "orchestrator_worker_builder.add_conditional_edges(\"generate_plan\", initiate_section_writing, [\"write_section\"])\n",
    "orchestrator_worker_builder.add_edge(\"write_section\", \"finalize_report\")\n",
    "orchestrator_worker_builder.add_edge(\"finalize_report\", END)\n",
    "\n",
    "# Compile the workflow\n",
    "orchestrator_worker = orchestrator_worker_builder.compile()\n",
    "\n",
    "# Show the chain \n",
    "display(Image(orchestrator_worker.get_graph().draw_mermaid_png()))"
   ]
  },
  {
   "cell_type": "code",
   "execution_count": 31,
   "metadata": {},
   "outputs": [],
   "source": [
    "state = orchestrator_worker.invoke({\"topic\": \"Create a report on LLM scaling laws\"})"
   ]
  },
  {
   "cell_type": "code",
   "execution_count": null,
   "metadata": {},
   "outputs": [],
   "source": [
    "from IPython.display import Markdown\n",
    "Markdown(state['final_report'])"
   ]
  },
  {
   "cell_type": "markdown",
   "metadata": {},
   "source": [
    "Trace: \n",
    "\n",
    "https://smith.langchain.com/public/6602d6b8-fd29-4539-b17b-3085c8e9ffcc/r"
   ]
  },
  {
   "cell_type": "markdown",
   "metadata": {},
   "source": [
    "## Evaluator-optimizer\n",
    "\n",
    "In the evaluator-optimizer workflow, one LLM call generates a response while another provides evaluation and feedback in a loop. As noted in the [Anthropic blog post](https://www.anthropic.com/research/building-effective-agents): \n",
    "\n",
    "> In the evaluator-optimizer workflow, one LLM call generates a response while another provides evaluation and feedback in a loop.\n",
    "\n",
    "> When to use this workflow: This workflow is particularly effective when we have clear evaluation criteria, and when iterative refinement provides measurable value. The two signs of good fit are, first, that LLM responses can be demonstrably improved when a human articulates their feedback; and second, that the LLM can provide such feedback. This is analogous to the iterative writing process a human writer might go through when producing a polished document.\n",
    "\n",
    "#### Resources\n",
    "\n",
    "**Examples**\n",
    "\n",
    "1) Here is a project that uses evaluator-optimizer to iteratively improve a report:\n",
    "\n",
    "https://github.com/langchain-ai/research-rabbit\n",
    "\n",
    "See our video on on this here:\n",
    "\n",
    "https://www.youtube.com/watch?v=XGuTzHoqlj8\n",
    "\n",
    "--- \n",
    "\n",
    "2) Here is a project on RAG that utilizes grading to check answers for hallucinations or factual errors: \n",
    "\n",
    "https://langchain-ai.github.io/langgraph/tutorials/rag/langgraph_adaptive_rag_local/ \n",
    "\n",
    "See our video on on this here:\n",
    "\n",
    "https://www.youtube.com/watch?v=bq1Plo2RhYI"
   ]
  },
  {
   "cell_type": "code",
   "execution_count": 36,
   "metadata": {},
   "outputs": [
    {
     "data": {
      "image/png": "[encoded data removed]",
      "text/plain": [
       "<IPython.core.display.Image object>"
      ]
     },
     "metadata": {},
     "output_type": "display_data"
    }
   ],
   "source": [
    "# State \n",
    "class State(TypedDict):\n",
    "    joke: str\n",
    "    topic: str\n",
    "    feedback: str\n",
    "    funny_or_not: str\n",
    "\n",
    "class Feedback(BaseModel):\n",
    "    grade: Literal[\"funny\", \"not funny\"] = Field(\n",
    "        description=\"Decide if the joke is funny or not.\",\n",
    "    )\n",
    "    feedback: str = Field(\n",
    "        description=\"If the joke is not funny, provide feedback on how to improve it.\",\n",
    "    )\n",
    "\n",
    "# Augment the LLM\n",
    "evaluator = llm.with_structured_output(Feedback)\n",
    "\n",
    "def make_joke(state: State):\n",
    "    if state.get('feedback'):\n",
    "        msg=llm.invoke(f\"Write a joke about {state['topic']} but take into account the feedback: {state['feedback']}\")\n",
    "    else:\n",
    "        msg=llm.invoke(f\"Write a joke about {state['topic']}\")\n",
    "    return {\"joke\": msg.content}\n",
    "\n",
    "def optimize_joke(state: State):\n",
    "    grade=evaluator.invoke(f\"Grade the joke {state['joke']}\")\n",
    "    return {\"funny_or_not\": grade.grade, \"feedback\": grade.feedback}\n",
    "\n",
    "def route_joke(state: State):\n",
    "    if state['funny_or_not'] == \"funny\":\n",
    "        return END \n",
    "    elif state['funny_or_not'] == \"not funny\":\n",
    "        return \"make_joke\"\n",
    "\n",
    "# Add the nodes\n",
    "optimizer_builder = StateGraph(State)\n",
    "optimizer_builder.add_node(\"make_joke\", make_joke)\n",
    "optimizer_builder.add_node(\"optimize_joke\", optimize_joke)\n",
    "\n",
    "# Build the chain\n",
    "optimizer_builder.add_edge(START, \"make_joke\")\n",
    "optimizer_builder.add_edge(\"make_joke\", \"optimize_joke\")\n",
    "optimizer_builder.add_conditional_edges(\"optimize_joke\", route_joke, [\"make_joke\", END])\n",
    "optimizer_workflow = optimizer_builder.compile()\n",
    "\n",
    "# Show the chain \n",
    "display(Image(optimizer_workflow.get_graph().draw_mermaid_png()))"
   ]
  },
  {
   "cell_type": "code",
   "execution_count": 37,
   "metadata": {},
   "outputs": [
    {
     "name": "stdout",
     "output_type": "stream",
     "text": [
      "Why was the cat sitting on the computer?\n",
      "\n",
      "Because it wanted to keep an eye on the mouse!\n"
     ]
    }
   ],
   "source": [
    "state = optimizer_workflow.invoke({\"topic\": \"Cats\"})\n",
    "print(state['joke'])"
   ]
  },
  {
   "cell_type": "markdown",
   "metadata": {},
   "source": [
    "Trace: \n",
    "\n",
    "https://smith.langchain.com/public/8a2cad2e-1b4e-4643-bad1-6a71af33de17/r"
   ]
  },
  {
   "cell_type": "markdown",
   "metadata": {},
   "source": [
    "## Agent \n",
    "\n",
    "Agents are typically just LLMs using tools based on environmental feedback in a loop. As noted in the [Anthropic blog post](https://www.anthropic.com/research/building-effective-agents): \n",
    "\n",
    "> Agents can handle sophisticated tasks, but their implementation is often straightforward. They are typically just LLMs using tools based on environmental feedback in a loop. It is therefore crucial to design toolsets and their documentation clearly and thoughtfully.\n",
    "\n",
    "> When to use agents: Agents can be used for open-ended problems where it’s difficult or impossible to predict the required number of steps, and where you can’t hardcode a fixed path. The LLM will potentially operate for many turns, and you must have some level of trust in its decision-making. Agents' autonomy makes them ideal for scaling tasks in trusted environments.\n",
    "\n",
    "#### Resources\n",
    "\n",
    "**LangChain Academy**\n",
    "\n",
    "See our lesson on agents here: \n",
    "\n",
    "https://github.com/langchain-ai/langchain-academy/blob/main/module-1/agent.ipynb\n",
    "\n",
    "--- \n",
    "\n",
    "**Examples**\n",
    "\n",
    "Here is a project that uses an agent to create long-term memories:\n",
    "\n",
    "https://github.com/langchain-ai/memory-agent"
   ]
  },
  {
   "cell_type": "code",
   "execution_count": 38,
   "metadata": {},
   "outputs": [],
   "source": [
    "def multiply(a: int, b: int) -> int:\n",
    "    \"\"\"Multiply a and b.\n",
    "\n",
    "    Args:\n",
    "        a: first int\n",
    "        b: second int\n",
    "    \"\"\"\n",
    "    return a * b\n",
    "\n",
    "def add(a: int, b: int) -> int:\n",
    "    \"\"\"Adds a and b.\n",
    "\n",
    "    Args:\n",
    "        a: first int\n",
    "        b: second int\n",
    "    \"\"\"\n",
    "    return a + b\n",
    "\n",
    "def divide(a: int, b: int) -> float:\n",
    "    \"\"\"Divide a and b.\n",
    "\n",
    "    Args:\n",
    "        a: first int\n",
    "        b: second int\n",
    "    \"\"\"\n",
    "    return a / b\n",
    "\n",
    "tools = [add, multiply, divide]\n",
    "llm_with_tools = llm.bind_tools(tools, parallel_tool_calls=False)"
   ]
  },
  {
   "cell_type": "code",
   "execution_count": 42,
   "metadata": {},
   "outputs": [
    {
     "data": {
      "image/png": "[encoded data removed]",
      "text/plain": [
       "<IPython.core.display.Image object>"
      ]
     },
     "metadata": {},
     "output_type": "display_data"
    }
   ],
   "source": [
    "from langgraph.graph import MessagesState\n",
    "from langgraph.prebuilt import ToolNode\n",
    "from langgraph.prebuilt import tools_condition\n",
    "from langchain_core.messages import SystemMessage, HumanMessage\n",
    "\n",
    "def assistant(state: MessagesState):\n",
    "   return {\"messages\": [llm_with_tools.invoke([SystemMessage(content=\"You are a helpful assistant tasked with performing arithmetic on a set of inputs.\")] + state[\"messages\"])]}\n",
    "\n",
    "# Graph\n",
    "agent_builder = StateGraph(MessagesState)\n",
    "agent_builder.add_node(\"assistant\", assistant)\n",
    "agent_builder.add_node(\"tools\", ToolNode(tools))\n",
    "agent_builder.add_edge(START, \"assistant\")\n",
    "agent_builder.add_conditional_edges(\n",
    "    \"assistant\",\n",
    "    # If the latest message (result) from assistant is a tool call -> tools_condition routes to tools\n",
    "    # If the latest message (result) from assistant is a not a tool call -> tools_condition routes to END\n",
    "    tools_condition,\n",
    ")\n",
    "agent_builder.add_edge(\"tools\", \"assistant\")\n",
    "agent = agent_builder.compile()\n",
    "\n",
    "# Show\n",
    "display(Image(agent.get_graph(xray=True).draw_mermaid_png()))"
   ]
  },
  {
   "cell_type": "code",
   "execution_count": 43,
   "metadata": {},
   "outputs": [
    {
     "name": "stdout",
     "output_type": "stream",
     "text": [
      "================================\u001b[1m Human Message \u001b[0m=================================\n",
      "\n",
      "Add 3 and 4. Multiply the output by 2. Divide the output by 5\n",
      "==================================\u001b[1m Ai Message \u001b[0m==================================\n",
      "Tool Calls:\n",
      "  add (call_c9AR2iqR2fTJitz8NpopdFIt)\n",
      " Call ID: call_c9AR2iqR2fTJitz8NpopdFIt\n",
      "  Args:\n",
      "    a: 3\n",
      "    b: 4\n",
      "=================================\u001b[1m Tool Message \u001b[0m=================================\n",
      "Name: add\n",
      "\n",
      "7\n",
      "==================================\u001b[1m Ai Message \u001b[0m==================================\n",
      "Tool Calls:\n",
      "  multiply (call_dgVIriPRmJRrIv0hqpl4OGOd)\n",
      " Call ID: call_dgVIriPRmJRrIv0hqpl4OGOd\n",
      "  Args:\n",
      "    a: 7\n",
      "    b: 2\n",
      "=================================\u001b[1m Tool Message \u001b[0m=================================\n",
      "Name: multiply\n",
      "\n",
      "14\n",
      "==================================\u001b[1m Ai Message \u001b[0m==================================\n",
      "Tool Calls:\n",
      "  divide (call_9wRM2D71BKrn22XPnk3K64S6)\n",
      " Call ID: call_9wRM2D71BKrn22XPnk3K64S6\n",
      "  Args:\n",
      "    a: 14\n",
      "    b: 5\n",
      "=================================\u001b[1m Tool Message \u001b[0m=================================\n",
      "Name: divide\n",
      "\n",
      "2.8\n",
      "==================================\u001b[1m Ai Message \u001b[0m==================================\n",
      "\n",
      "The final result is 2.8.\n"
     ]
    }
   ],
   "source": [
    "messages = [HumanMessage(content=\"Add 3 and 4. Multiply the output by 2. Divide the output by 5\")]\n",
    "messages = agent.invoke({\"messages\": messages})\n",
    "for m in messages['messages']:\n",
    "    m.pretty_print()"
   ]
  },
  {
   "cell_type": "markdown",
   "metadata": {},
   "source": [
    "Trace: \n",
    "\n",
    "https://smith.langchain.com/public/246c20b8-304d-44be-82af-194eae0612a2/r"
   ]
  },
  {
   "cell_type": "markdown",
   "metadata": {},
   "source": [
    "## Learning More\n",
    "\n",
    "### Checkpoints and Human-in-the-Loop\n",
    "\n",
    "See module 3 of LangChain Academy: \n",
    "\n",
    "https://github.com/langchain-ai/langchain-academy/tree/main/module-3\n",
    "\n",
    "### Memory \n",
    "\n",
    "See modules 2 and 5 of LangChain Academy: \n",
    "\n",
    "https://github.com/langchain-ai/langchain-academy/tree/main/module-2\n",
    "\n",
    "https://github.com/langchain-ai/langchain-academy/tree/main/module-5\n",
    "\n",
    "### Deployment \n",
    "\n",
    "See module 6 of LangChain Academy: \n",
    "\n",
    "https://github.com/langchain-ai/langchain-academy/tree/main/module-6"
   ]
  },
  {
   "cell_type": "markdown",
   "metadata": {},
   "source": []
  }
 ],
 "metadata": {
  "kernelspec": {
   "display_name": "langgraph-env",
   "language": "python",
   "name": "python3"
  },
  "language_info": {
   "codemirror_mode": {
    "name": "ipython",
    "version": 3
   },
   "file_extension": ".py",
   "mimetype": "text/x-python",
   "name": "python",
   "nbconvert_exporter": "python",
   "pygments_lexer": "ipython3",
   "version": "3.11.6"
  }
 },
 "nbformat": 4,
 "nbformat_minor": 2
}
